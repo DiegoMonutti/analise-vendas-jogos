{
 "cells": [
  {
   "cell_type": "code",
   "execution_count": 1,
   "id": "b1737965",
   "metadata": {},
   "outputs": [],
   "source": [
    "# Pré-Processamento e Limpeza de Dados\n",
    "import pandas as pd\n",
    "\n",
    "df = pd.read_csv(\"vgsales new.csv\")"
   ]
  },
  {
   "cell_type": "code",
   "execution_count": 2,
   "id": "253fd02d",
   "metadata": {},
   "outputs": [],
   "source": [
    "# remover valores ausentes\n",
    "df = df.dropna(subset=['Year', 'Publisher'])"
   ]
  },
  {
   "cell_type": "code",
   "execution_count": 3,
   "id": "c3bc9858",
   "metadata": {},
   "outputs": [
    {
     "name": "stdout",
     "output_type": "stream",
     "text": [
      "<class 'pandas.core.frame.DataFrame'>\n",
      "Index: 16291 entries, 0 to 16326\n",
      "Data columns (total 11 columns):\n",
      " #   Column        Non-Null Count  Dtype  \n",
      "---  ------        --------------  -----  \n",
      " 0   Rank          16291 non-null  int64  \n",
      " 1   Name          16291 non-null  object \n",
      " 2   Platform      16291 non-null  object \n",
      " 3   Year          16291 non-null  float64\n",
      " 4   Genre         16291 non-null  object \n",
      " 5   Publisher     16291 non-null  object \n",
      " 6   NA_Sales      16291 non-null  float64\n",
      " 7   EU_Sales      16291 non-null  float64\n",
      " 8   JP_Sales      16291 non-null  float64\n",
      " 9   Other_Sales   16291 non-null  float64\n",
      " 10  Global_Sales  16291 non-null  float64\n",
      "dtypes: float64(6), int64(1), object(4)\n",
      "memory usage: 1.5+ MB\n"
     ]
    }
   ],
   "source": [
    "df.info()"
   ]
  },
  {
   "cell_type": "code",
   "execution_count": 4,
   "id": "b6e97d4e",
   "metadata": {},
   "outputs": [],
   "source": [
    "# converter Year para inteiro\n",
    "df['Year'] = df['Year'].astype(int)"
   ]
  },
  {
   "cell_type": "code",
   "execution_count": 5,
   "id": "3f097306",
   "metadata": {},
   "outputs": [],
   "source": [
    "# padronizar os nomes das publishers\n",
    "publisher_mapping = {\n",
    "    'Activision': 'Activision Blizzard',\n",
    "    'Activision Blizzard': 'Activision Blizzard',\n",
    "    'Activision Value': 'Activision Blizzard',\n",
    "    \n",
    "    '989 Studios': 'Sony',\n",
    "    '989 Sports': 'Sony',\n",
    "    'Sony Computer Entertainment': 'Sony',\n",
    "    'SCEA': 'Sony',\n",
    "    'SCEI': 'Sony',\n",
    "    \n",
    "    'Square': 'Square Enix',\n",
    "    'SquareSoft': 'Square Enix',\n",
    "    'Enix': 'Square Enix',\n",
    "    \n",
    "    'Infogrames': 'Atari',\n",
    "    'Atari': 'Atari',\n",
    "    \n",
    "    'THQ': 'THQ Nordic',\n",
    "    'THQ Nordic': 'THQ Nordic',\n",
    "    \n",
    "    'Sega Enterprises': 'Sega',\n",
    "    'Sega Sports': 'Sega',\n",
    "    \n",
    "    'Ubisoft Entertainment': 'Ubisoft',\n",
    "    \n",
    "    '2K Games': 'Take-Two Interactive',\n",
    "    'Rockstar Games': 'Take-Two Interactive',\n",
    "    'Take-Two Interactive': 'Take-Two Interactive',\n",
    "    \n",
    "    'Bandai': 'Bandai Namco',\n",
    "    'Namco': 'Bandai Namco',\n",
    "    'Bandai Namco Games': 'Bandai Namco',\n",
    "    \n",
    "    'Microsoft Game Studios': 'Microsoft',\n",
    "    'Xbox Game Studios': 'Microsoft'\n",
    "}"
   ]
  },
  {
   "cell_type": "code",
   "execution_count": 6,
   "id": "5dfe641e",
   "metadata": {},
   "outputs": [
    {
     "name": "stdout",
     "output_type": "stream",
     "text": [
      "Antes da padronização:\n",
      "Publisher\n",
      "Electronic Arts                 1339\n",
      "Activision                       966\n",
      "Namco Bandai Games               928\n",
      "Ubisoft                          918\n",
      "Konami Digital Entertainment     823\n",
      "                                ... \n",
      "Enjoy Gaming ltd.                  1\n",
      "Phantom EFX                        1\n",
      "T&E Soft                           1\n",
      "Warp                               1\n",
      "UIG Entertainment                  1\n",
      "Name: count, Length: 576, dtype: int64\n",
      "\n",
      "Depois da padronização:\n",
      "Publisher\n",
      "Electronic Arts                 1339\n",
      "Activision Blizzard              996\n",
      "Namco Bandai Games               928\n",
      "Ubisoft                          918\n",
      "Konami Digital Entertainment     823\n",
      "                                ... \n",
      "White Park Bay Software            1\n",
      "HAL Laboratory                     1\n",
      "Gameloft                           1\n",
      "Palcom                             1\n",
      "UIG Entertainment                  1\n",
      "Name: count, Length: 569, dtype: int64\n"
     ]
    }
   ],
   "source": [
    "# antes da padronização:\n",
    "print(\"Antes da padronização:\")\n",
    "print(df['Publisher'].value_counts())\n",
    "\n",
    "# aplicar o mapeamento\n",
    "df['Publisher'] = df['Publisher'].replace(publisher_mapping)\n",
    "\n",
    "# depois da padronização:\n",
    "print(\"\\nDepois da padronização:\")\n",
    "print(df['Publisher'].value_counts())"
   ]
  },
  {
   "cell_type": "code",
   "execution_count": 7,
   "id": "e156c075",
   "metadata": {},
   "outputs": [],
   "source": [
    "# salvando o DataFrame corrigido\n",
    "df.to_csv(\"dataset_corrigido.csv\", index=False)"
   ]
  }
 ],
 "metadata": {
  "kernelspec": {
   "display_name": "Python 3",
   "language": "python",
   "name": "python3"
  },
  "language_info": {
   "codemirror_mode": {
    "name": "ipython",
    "version": 3
   },
   "file_extension": ".py",
   "mimetype": "text/x-python",
   "name": "python",
   "nbconvert_exporter": "python",
   "pygments_lexer": "ipython3",
   "version": "3.11.4"
  }
 },
 "nbformat": 4,
 "nbformat_minor": 5
}
