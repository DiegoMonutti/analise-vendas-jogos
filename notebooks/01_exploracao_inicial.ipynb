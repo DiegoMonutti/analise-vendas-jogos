{
 "cells": [
  {
   "cell_type": "code",
   "execution_count": 1,
   "id": "c477c134",
   "metadata": {},
   "outputs": [
    {
     "name": "stdout",
     "output_type": "stream",
     "text": [
      "   Rank             Name Platform    Year     Genre   Publisher  NA_Sales  \\\n",
      "0   259        Asteroids     2600  1980.0   Shooter       Atari      4.00   \n",
      "1   545  Missile Command     2600  1980.0   Shooter       Atari      2.56   \n",
      "2  1768          Kaboom!     2600  1980.0      Misc  Activision      1.07   \n",
      "3  1971         Defender     2600  1980.0      Misc       Atari      0.99   \n",
      "4  2671           Boxing     2600  1980.0  Fighting  Activision      0.72   \n",
      "\n",
      "   EU_Sales  JP_Sales  Other_Sales  Global_Sales  \n",
      "0      0.26       0.0         0.05          4.31  \n",
      "1      0.17       0.0         0.03          2.76  \n",
      "2      0.07       0.0         0.01          1.15  \n",
      "3      0.05       0.0         0.01          1.05  \n",
      "4      0.04       0.0         0.01          0.77  \n"
     ]
    }
   ],
   "source": [
    "# Exploração dos Dados\n",
    "import pandas as pd\n",
    "\n",
    "# abrir a base de dados\n",
    "df = pd.read_csv(\"vgsales new.csv\")\n",
    "\n",
    "# imprimir as primeiras linhas da base de dados\n",
    "print(df.head())"
   ]
  },
  {
   "cell_type": "code",
   "execution_count": 2,
   "id": "a361118a",
   "metadata": {},
   "outputs": [
    {
     "name": "stdout",
     "output_type": "stream",
     "text": [
      "\n",
      "Colunas da base de dados:\n",
      "['Rank', 'Name', 'Platform', 'Year', 'Genre', 'Publisher', 'NA_Sales', 'EU_Sales', 'JP_Sales', 'Other_Sales', 'Global_Sales']\n"
     ]
    }
   ],
   "source": [
    "# imprimir as colunas da base de dados\n",
    "print(\"\\nColunas da base de dados:\")\n",
    "print(df.columns.tolist())"
   ]
  },
  {
   "cell_type": "code",
   "execution_count": 3,
   "id": "918e343e",
   "metadata": {},
   "outputs": [
    {
     "name": "stdout",
     "output_type": "stream",
     "text": [
      "\n",
      " Tipos de dados das colunas:\n",
      "Rank              int64\n",
      "Name             object\n",
      "Platform         object\n",
      "Year            float64\n",
      "Genre            object\n",
      "Publisher        object\n",
      "NA_Sales        float64\n",
      "EU_Sales        float64\n",
      "JP_Sales        float64\n",
      "Other_Sales     float64\n",
      "Global_Sales    float64\n",
      "dtype: object\n"
     ]
    }
   ],
   "source": [
    "# imprimir tipos de dados das colunas\n",
    "print(\"\\n Tipos de dados das colunas:\")\n",
    "print(df.dtypes)"
   ]
  },
  {
   "cell_type": "code",
   "execution_count": 4,
   "id": "a3d3857c",
   "metadata": {},
   "outputs": [
    {
     "name": "stdout",
     "output_type": "stream",
     "text": [
      "\n",
      "Dimensões da base de dados:\n",
      "(16598, 11)\n"
     ]
    }
   ],
   "source": [
    "# verificar dimensões da base de dados\n",
    "print(\"\\nDimensões da base de dados:\")\n",
    "print(df.shape)"
   ]
  },
  {
   "cell_type": "code",
   "execution_count": 5,
   "id": "fc3c327a",
   "metadata": {},
   "outputs": [
    {
     "name": "stdout",
     "output_type": "stream",
     "text": [
      "<class 'pandas.core.frame.DataFrame'>\n",
      "RangeIndex: 16598 entries, 0 to 16597\n",
      "Data columns (total 11 columns):\n",
      " #   Column        Non-Null Count  Dtype  \n",
      "---  ------        --------------  -----  \n",
      " 0   Rank          16598 non-null  int64  \n",
      " 1   Name          16598 non-null  object \n",
      " 2   Platform      16598 non-null  object \n",
      " 3   Year          16327 non-null  float64\n",
      " 4   Genre         16598 non-null  object \n",
      " 5   Publisher     16540 non-null  object \n",
      " 6   NA_Sales      16598 non-null  float64\n",
      " 7   EU_Sales      16598 non-null  float64\n",
      " 8   JP_Sales      16598 non-null  float64\n",
      " 9   Other_Sales   16598 non-null  float64\n",
      " 10  Global_Sales  16598 non-null  float64\n",
      "dtypes: float64(6), int64(1), object(4)\n",
      "memory usage: 1.4+ MB\n"
     ]
    }
   ],
   "source": [
    "# resumo das informações\n",
    "df.info()"
   ]
  },
  {
   "cell_type": "code",
   "execution_count": 6,
   "id": "377cd5ed",
   "metadata": {},
   "outputs": [
    {
     "data": {
      "text/plain": [
       "Rank              0\n",
       "Name              0\n",
       "Platform          0\n",
       "Year            271\n",
       "Genre             0\n",
       "Publisher        58\n",
       "NA_Sales          0\n",
       "EU_Sales          0\n",
       "JP_Sales          0\n",
       "Other_Sales       0\n",
       "Global_Sales      0\n",
       "dtype: int64"
      ]
     },
     "execution_count": 6,
     "metadata": {},
     "output_type": "execute_result"
    }
   ],
   "source": [
    "# verificar valores nulos\n",
    "df.isnull().sum()"
   ]
  },
  {
   "cell_type": "code",
   "execution_count": 7,
   "id": "f79cc491",
   "metadata": {},
   "outputs": [
    {
     "data": {
      "text/plain": [
       "0"
      ]
     },
     "execution_count": 7,
     "metadata": {},
     "output_type": "execute_result"
    }
   ],
   "source": [
    "# verificar valores duplicados\n",
    "df.duplicated().sum()"
   ]
  },
  {
   "cell_type": "code",
   "execution_count": 8,
   "id": "477fe273",
   "metadata": {},
   "outputs": [
    {
     "data": {
      "text/plain": [
       "array(['2600', 'NES', 'PC', 'DS', 'GB', 'SNES', 'GEN', 'GG', 'SCD', 'NG',\n",
       "       'PS', 'SAT', '3DO', 'TG16', 'N64', 'PCFX', 'DC', 'WS', 'PS2', 'XB',\n",
       "       'GBA', 'GC', 'PSP', 'X360', 'Wii', 'PS3', '3DS', 'PSV', 'WiiU',\n",
       "       'PS4', 'XOne'], dtype=object)"
      ]
     },
     "execution_count": 8,
     "metadata": {},
     "output_type": "execute_result"
    }
   ],
   "source": [
    "# verificar as plataformas existentes\n",
    "df['Platform'].unique()"
   ]
  },
  {
   "cell_type": "code",
   "execution_count": 9,
   "id": "2d77bb02",
   "metadata": {},
   "outputs": [
    {
     "data": {
      "text/plain": [
       "array(['Shooter', 'Misc', 'Fighting', 'Sports', 'Action', 'Platform',\n",
       "       'Puzzle', 'Racing', 'Simulation', 'Adventure', 'Role-Playing',\n",
       "       'Strategy'], dtype=object)"
      ]
     },
     "execution_count": 9,
     "metadata": {},
     "output_type": "execute_result"
    }
   ],
   "source": [
    "# verificar os gêneros existentes\n",
    "df['Genre'].unique()"
   ]
  },
  {
   "cell_type": "code",
   "execution_count": 10,
   "id": "b5212b01",
   "metadata": {},
   "outputs": [
    {
     "data": {
      "text/plain": [
       "Publisher\n",
       "Electronic Arts                 1351\n",
       "Activision                       975\n",
       "Namco Bandai Games               932\n",
       "Ubisoft                          921\n",
       "Konami Digital Entertainment     832\n",
       "                                ... \n",
       "Grand Prix Games                   1\n",
       "Ertain                             1\n",
       "T&E Soft                           1\n",
       "Monte Christo Multimedia           1\n",
       "Sears                              1\n",
       "Name: count, Length: 578, dtype: int64"
      ]
     },
     "execution_count": 10,
     "metadata": {},
     "output_type": "execute_result"
    }
   ],
   "source": [
    "# contar os títulos por publisher\n",
    "df['Publisher'].value_counts()"
   ]
  },
  {
   "cell_type": "code",
   "execution_count": 11,
   "id": "404ce60b",
   "metadata": {},
   "outputs": [],
   "source": [
    "# verificar as publishers presentes no DataFrame\n",
    "\n",
    "# obter os valores únicos\n",
    "valores_unicos = df['Publisher'].unique()\n",
    "\n",
    "# converter o array de valores únicos para um novo DataFrame\n",
    "df_valores_unicos = pd.DataFrame(valores_unicos, columns=['Publisher'])\n",
    "\n",
    "# exportar o novo DF para um arquivo Excel\n",
    "df_valores_unicos.to_excel('valores_unicos_coluna.xlsx', index=False)"
   ]
  }
 ],
 "metadata": {
  "kernelspec": {
   "display_name": "Python 3",
   "language": "python",
   "name": "python3"
  },
  "language_info": {
   "codemirror_mode": {
    "name": "ipython",
    "version": 3
   },
   "file_extension": ".py",
   "mimetype": "text/x-python",
   "name": "python",
   "nbconvert_exporter": "python",
   "pygments_lexer": "ipython3",
   "version": "3.11.4"
  }
 },
 "nbformat": 4,
 "nbformat_minor": 5
}
